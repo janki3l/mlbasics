{
 "cells": [
  {
   "cell_type": "code",
   "execution_count": 4,
   "metadata": {
    "collapsed": true
   },
   "outputs": [],
   "source": [
    "import pandas as pd\n",
    "import numpy as np\n",
    "from mlxtend.frequent_patterns import apriori, association_rules\n",
    "from mlxtend.preprocessing import TransactionEncoder"
   ]
  },
  {
   "cell_type": "code",
   "execution_count": 6,
   "outputs": [
    {
     "data": {
      "text/plain": "                           lista\n0             MILK,BREAD,BISCUIT\n1  BREAD,MILK,BISCUIT,CORNFLAKES\n2            BREAD,TEA,BOURNVITA\n3           JAM,MAGGI,BREAD,MILK\n4              MAGGI,TEA,BISCUIT",
      "text/html": "<div>\n<style scoped>\n    .dataframe tbody tr th:only-of-type {\n        vertical-align: middle;\n    }\n\n    .dataframe tbody tr th {\n        vertical-align: top;\n    }\n\n    .dataframe thead th {\n        text-align: right;\n    }\n</style>\n<table border=\"1\" class=\"dataframe\">\n  <thead>\n    <tr style=\"text-align: right;\">\n      <th></th>\n      <th>lista</th>\n    </tr>\n  </thead>\n  <tbody>\n    <tr>\n      <th>0</th>\n      <td>MILK,BREAD,BISCUIT</td>\n    </tr>\n    <tr>\n      <th>1</th>\n      <td>BREAD,MILK,BISCUIT,CORNFLAKES</td>\n    </tr>\n    <tr>\n      <th>2</th>\n      <td>BREAD,TEA,BOURNVITA</td>\n    </tr>\n    <tr>\n      <th>3</th>\n      <td>JAM,MAGGI,BREAD,MILK</td>\n    </tr>\n    <tr>\n      <th>4</th>\n      <td>MAGGI,TEA,BISCUIT</td>\n    </tr>\n  </tbody>\n</table>\n</div>"
     },
     "execution_count": 6,
     "metadata": {},
     "output_type": "execute_result"
    }
   ],
   "source": [
    "df = pd.read_csv('files/GroceryStoreDataSet.csv', header = None, names = ['lista'])\n",
    "df.head()"
   ],
   "metadata": {
    "collapsed": false
   }
  },
  {
   "cell_type": "code",
   "execution_count": 14,
   "outputs": [
    {
     "name": "stdout",
     "output_type": "stream",
     "text": [
      "[['MILK', 'BREAD', 'BISCUIT'], ['BREAD', 'MILK', 'BISCUIT', 'CORNFLAKES'], ['BREAD', 'TEA', 'BOURNVITA'], ['JAM', 'MAGGI', 'BREAD', 'MILK'], ['MAGGI', 'TEA', 'BISCUIT'], ['BREAD', 'TEA', 'BOURNVITA'], ['MAGGI', 'TEA', 'CORNFLAKES'], ['MAGGI', 'BREAD', 'TEA', 'BISCUIT'], ['JAM', 'MAGGI', 'BREAD', 'TEA'], ['BREAD', 'MILK'], ['COFFEE', 'COCK', 'BISCUIT', 'CORNFLAKES'], ['COFFEE', 'COCK', 'BISCUIT', 'CORNFLAKES'], ['COFFEE', 'SUGER', 'BOURNVITA'], ['BREAD', 'COFFEE', 'COCK'], ['BREAD', 'SUGER', 'BISCUIT'], ['COFFEE', 'SUGER', 'CORNFLAKES'], ['BREAD', 'SUGER', 'BOURNVITA'], ['BREAD', 'COFFEE', 'SUGER'], ['BREAD', 'COFFEE', 'SUGER'], ['TEA', 'MILK', 'COFFEE', 'CORNFLAKES']]\n"
     ]
    }
   ],
   "source": [
    "import re\n",
    "dataset = df['lista'].apply(lambda x: re.split(r',\\s*|\\n', x)).tolist()\n",
    "print(dataset)"
   ],
   "metadata": {
    "collapsed": false
   }
  },
  {
   "cell_type": "code",
   "execution_count": 15,
   "outputs": [
    {
     "data": {
      "text/plain": "array([[ True, False,  True, False, False, False, False, False,  True,\n        False, False],\n       [ True, False,  True, False, False,  True, False, False,  True,\n        False, False],\n       [False,  True,  True, False, False, False, False, False, False,\n        False,  True],\n       [False, False,  True, False, False, False,  True,  True,  True,\n        False, False],\n       [ True, False, False, False, False, False, False,  True, False,\n        False,  True],\n       [False,  True,  True, False, False, False, False, False, False,\n        False,  True],\n       [False, False, False, False, False,  True, False,  True, False,\n        False,  True],\n       [ True, False,  True, False, False, False, False,  True, False,\n        False,  True],\n       [False, False,  True, False, False, False,  True,  True, False,\n        False,  True],\n       [False, False,  True, False, False, False, False, False,  True,\n        False, False],\n       [ True, False, False,  True,  True,  True, False, False, False,\n        False, False],\n       [ True, False, False,  True,  True,  True, False, False, False,\n        False, False],\n       [False,  True, False, False,  True, False, False, False, False,\n         True, False],\n       [False, False,  True,  True,  True, False, False, False, False,\n        False, False],\n       [ True, False,  True, False, False, False, False, False, False,\n         True, False],\n       [False, False, False, False,  True,  True, False, False, False,\n         True, False],\n       [False,  True,  True, False, False, False, False, False, False,\n         True, False],\n       [False, False,  True, False,  True, False, False, False, False,\n         True, False],\n       [False, False,  True, False,  True, False, False, False, False,\n         True, False],\n       [False, False, False, False,  True,  True, False, False,  True,\n        False,  True]])"
     },
     "execution_count": 15,
     "metadata": {},
     "output_type": "execute_result"
    }
   ],
   "source": [
    "te = TransactionEncoder()\n",
    "te_ary = te.fit(dataset).transform(dataset)\n",
    "te_ary"
   ],
   "metadata": {
    "collapsed": false
   }
  },
  {
   "cell_type": "code",
   "execution_count": 16,
   "outputs": [
    {
     "data": {
      "text/plain": "array([[1, 0, 1, 0, 0, 0, 0, 0, 1, 0, 0],\n       [1, 0, 1, 0, 0, 1, 0, 0, 1, 0, 0],\n       [0, 1, 1, 0, 0, 0, 0, 0, 0, 0, 1],\n       [0, 0, 1, 0, 0, 0, 1, 1, 1, 0, 0],\n       [1, 0, 0, 0, 0, 0, 0, 1, 0, 0, 1],\n       [0, 1, 1, 0, 0, 0, 0, 0, 0, 0, 1],\n       [0, 0, 0, 0, 0, 1, 0, 1, 0, 0, 1],\n       [1, 0, 1, 0, 0, 0, 0, 1, 0, 0, 1],\n       [0, 0, 1, 0, 0, 0, 1, 1, 0, 0, 1],\n       [0, 0, 1, 0, 0, 0, 0, 0, 1, 0, 0],\n       [1, 0, 0, 1, 1, 1, 0, 0, 0, 0, 0],\n       [1, 0, 0, 1, 1, 1, 0, 0, 0, 0, 0],\n       [0, 1, 0, 0, 1, 0, 0, 0, 0, 1, 0],\n       [0, 0, 1, 1, 1, 0, 0, 0, 0, 0, 0],\n       [1, 0, 1, 0, 0, 0, 0, 0, 0, 1, 0],\n       [0, 0, 0, 0, 1, 1, 0, 0, 0, 1, 0],\n       [0, 1, 1, 0, 0, 0, 0, 0, 0, 1, 0],\n       [0, 0, 1, 0, 1, 0, 0, 0, 0, 1, 0],\n       [0, 0, 1, 0, 1, 0, 0, 0, 0, 1, 0],\n       [0, 0, 0, 0, 1, 1, 0, 0, 1, 0, 1]])"
     },
     "execution_count": 16,
     "metadata": {},
     "output_type": "execute_result"
    }
   ],
   "source": [
    "te_ary.astype(\"int\")\n"
   ],
   "metadata": {
    "collapsed": false
   }
  },
  {
   "cell_type": "code",
   "execution_count": 17,
   "outputs": [
    {
     "data": {
      "text/plain": "['BISCUIT',\n 'BOURNVITA',\n 'BREAD',\n 'COCK',\n 'COFFEE',\n 'CORNFLAKES',\n 'JAM',\n 'MAGGI',\n 'MILK',\n 'SUGER',\n 'TEA']"
     },
     "execution_count": 17,
     "metadata": {},
     "output_type": "execute_result"
    }
   ],
   "source": [
    "te.columns_\n"
   ],
   "metadata": {
    "collapsed": false
   }
  },
  {
   "cell_type": "code",
   "execution_count": 23,
   "outputs": [],
   "source": [
    "import pandas as pd\n",
    "\n",
    "dfa = pd.DataFrame(te_ary, columns=te.columns_)"
   ],
   "metadata": {
    "collapsed": false
   }
  },
  {
   "cell_type": "code",
   "execution_count": 26,
   "outputs": [
    {
     "data": {
      "text/plain": "    BISCUIT  BOURNVITA  BREAD   COCK  COFFEE  CORNFLAKES    JAM  MAGGI   MILK  \\\n0      True      False   True  False   False       False  False  False   True   \n1      True      False   True  False   False        True  False  False   True   \n2     False       True   True  False   False       False  False  False  False   \n3     False      False   True  False   False       False   True   True   True   \n4      True      False  False  False   False       False  False   True  False   \n5     False       True   True  False   False       False  False  False  False   \n6     False      False  False  False   False        True  False   True  False   \n7      True      False   True  False   False       False  False   True  False   \n8     False      False   True  False   False       False   True   True  False   \n9     False      False   True  False   False       False  False  False   True   \n10     True      False  False   True    True        True  False  False  False   \n11     True      False  False   True    True        True  False  False  False   \n12    False       True  False  False    True       False  False  False  False   \n13    False      False   True   True    True       False  False  False  False   \n14     True      False   True  False   False       False  False  False  False   \n15    False      False  False  False    True        True  False  False  False   \n16    False       True   True  False   False       False  False  False  False   \n17    False      False   True  False    True       False  False  False  False   \n18    False      False   True  False    True       False  False  False  False   \n19    False      False  False  False    True        True  False  False   True   \n\n    SUGER    TEA  \n0   False  False  \n1   False  False  \n2   False   True  \n3   False  False  \n4   False   True  \n5   False   True  \n6   False   True  \n7   False   True  \n8   False   True  \n9   False  False  \n10  False  False  \n11  False  False  \n12   True  False  \n13  False  False  \n14   True  False  \n15   True  False  \n16   True  False  \n17   True  False  \n18   True  False  \n19  False   True  ",
      "text/html": "<div>\n<style scoped>\n    .dataframe tbody tr th:only-of-type {\n        vertical-align: middle;\n    }\n\n    .dataframe tbody tr th {\n        vertical-align: top;\n    }\n\n    .dataframe thead th {\n        text-align: right;\n    }\n</style>\n<table border=\"1\" class=\"dataframe\">\n  <thead>\n    <tr style=\"text-align: right;\">\n      <th></th>\n      <th>BISCUIT</th>\n      <th>BOURNVITA</th>\n      <th>BREAD</th>\n      <th>COCK</th>\n      <th>COFFEE</th>\n      <th>CORNFLAKES</th>\n      <th>JAM</th>\n      <th>MAGGI</th>\n      <th>MILK</th>\n      <th>SUGER</th>\n      <th>TEA</th>\n    </tr>\n  </thead>\n  <tbody>\n    <tr>\n      <th>0</th>\n      <td>True</td>\n      <td>False</td>\n      <td>True</td>\n      <td>False</td>\n      <td>False</td>\n      <td>False</td>\n      <td>False</td>\n      <td>False</td>\n      <td>True</td>\n      <td>False</td>\n      <td>False</td>\n    </tr>\n    <tr>\n      <th>1</th>\n      <td>True</td>\n      <td>False</td>\n      <td>True</td>\n      <td>False</td>\n      <td>False</td>\n      <td>True</td>\n      <td>False</td>\n      <td>False</td>\n      <td>True</td>\n      <td>False</td>\n      <td>False</td>\n    </tr>\n    <tr>\n      <th>2</th>\n      <td>False</td>\n      <td>True</td>\n      <td>True</td>\n      <td>False</td>\n      <td>False</td>\n      <td>False</td>\n      <td>False</td>\n      <td>False</td>\n      <td>False</td>\n      <td>False</td>\n      <td>True</td>\n    </tr>\n    <tr>\n      <th>3</th>\n      <td>False</td>\n      <td>False</td>\n      <td>True</td>\n      <td>False</td>\n      <td>False</td>\n      <td>False</td>\n      <td>True</td>\n      <td>True</td>\n      <td>True</td>\n      <td>False</td>\n      <td>False</td>\n    </tr>\n    <tr>\n      <th>4</th>\n      <td>True</td>\n      <td>False</td>\n      <td>False</td>\n      <td>False</td>\n      <td>False</td>\n      <td>False</td>\n      <td>False</td>\n      <td>True</td>\n      <td>False</td>\n      <td>False</td>\n      <td>True</td>\n    </tr>\n    <tr>\n      <th>5</th>\n      <td>False</td>\n      <td>True</td>\n      <td>True</td>\n      <td>False</td>\n      <td>False</td>\n      <td>False</td>\n      <td>False</td>\n      <td>False</td>\n      <td>False</td>\n      <td>False</td>\n      <td>True</td>\n    </tr>\n    <tr>\n      <th>6</th>\n      <td>False</td>\n      <td>False</td>\n      <td>False</td>\n      <td>False</td>\n      <td>False</td>\n      <td>True</td>\n      <td>False</td>\n      <td>True</td>\n      <td>False</td>\n      <td>False</td>\n      <td>True</td>\n    </tr>\n    <tr>\n      <th>7</th>\n      <td>True</td>\n      <td>False</td>\n      <td>True</td>\n      <td>False</td>\n      <td>False</td>\n      <td>False</td>\n      <td>False</td>\n      <td>True</td>\n      <td>False</td>\n      <td>False</td>\n      <td>True</td>\n    </tr>\n    <tr>\n      <th>8</th>\n      <td>False</td>\n      <td>False</td>\n      <td>True</td>\n      <td>False</td>\n      <td>False</td>\n      <td>False</td>\n      <td>True</td>\n      <td>True</td>\n      <td>False</td>\n      <td>False</td>\n      <td>True</td>\n    </tr>\n    <tr>\n      <th>9</th>\n      <td>False</td>\n      <td>False</td>\n      <td>True</td>\n      <td>False</td>\n      <td>False</td>\n      <td>False</td>\n      <td>False</td>\n      <td>False</td>\n      <td>True</td>\n      <td>False</td>\n      <td>False</td>\n    </tr>\n    <tr>\n      <th>10</th>\n      <td>True</td>\n      <td>False</td>\n      <td>False</td>\n      <td>True</td>\n      <td>True</td>\n      <td>True</td>\n      <td>False</td>\n      <td>False</td>\n      <td>False</td>\n      <td>False</td>\n      <td>False</td>\n    </tr>\n    <tr>\n      <th>11</th>\n      <td>True</td>\n      <td>False</td>\n      <td>False</td>\n      <td>True</td>\n      <td>True</td>\n      <td>True</td>\n      <td>False</td>\n      <td>False</td>\n      <td>False</td>\n      <td>False</td>\n      <td>False</td>\n    </tr>\n    <tr>\n      <th>12</th>\n      <td>False</td>\n      <td>True</td>\n      <td>False</td>\n      <td>False</td>\n      <td>True</td>\n      <td>False</td>\n      <td>False</td>\n      <td>False</td>\n      <td>False</td>\n      <td>True</td>\n      <td>False</td>\n    </tr>\n    <tr>\n      <th>13</th>\n      <td>False</td>\n      <td>False</td>\n      <td>True</td>\n      <td>True</td>\n      <td>True</td>\n      <td>False</td>\n      <td>False</td>\n      <td>False</td>\n      <td>False</td>\n      <td>False</td>\n      <td>False</td>\n    </tr>\n    <tr>\n      <th>14</th>\n      <td>True</td>\n      <td>False</td>\n      <td>True</td>\n      <td>False</td>\n      <td>False</td>\n      <td>False</td>\n      <td>False</td>\n      <td>False</td>\n      <td>False</td>\n      <td>True</td>\n      <td>False</td>\n    </tr>\n    <tr>\n      <th>15</th>\n      <td>False</td>\n      <td>False</td>\n      <td>False</td>\n      <td>False</td>\n      <td>True</td>\n      <td>True</td>\n      <td>False</td>\n      <td>False</td>\n      <td>False</td>\n      <td>True</td>\n      <td>False</td>\n    </tr>\n    <tr>\n      <th>16</th>\n      <td>False</td>\n      <td>True</td>\n      <td>True</td>\n      <td>False</td>\n      <td>False</td>\n      <td>False</td>\n      <td>False</td>\n      <td>False</td>\n      <td>False</td>\n      <td>True</td>\n      <td>False</td>\n    </tr>\n    <tr>\n      <th>17</th>\n      <td>False</td>\n      <td>False</td>\n      <td>True</td>\n      <td>False</td>\n      <td>True</td>\n      <td>False</td>\n      <td>False</td>\n      <td>False</td>\n      <td>False</td>\n      <td>True</td>\n      <td>False</td>\n    </tr>\n    <tr>\n      <th>18</th>\n      <td>False</td>\n      <td>False</td>\n      <td>True</td>\n      <td>False</td>\n      <td>True</td>\n      <td>False</td>\n      <td>False</td>\n      <td>False</td>\n      <td>False</td>\n      <td>True</td>\n      <td>False</td>\n    </tr>\n    <tr>\n      <th>19</th>\n      <td>False</td>\n      <td>False</td>\n      <td>False</td>\n      <td>False</td>\n      <td>True</td>\n      <td>True</td>\n      <td>False</td>\n      <td>False</td>\n      <td>True</td>\n      <td>False</td>\n      <td>True</td>\n    </tr>\n  </tbody>\n</table>\n</div>"
     },
     "execution_count": 26,
     "metadata": {},
     "output_type": "execute_result"
    }
   ],
   "source": [
    "dfa"
   ],
   "metadata": {
    "collapsed": false
   }
  },
  {
   "cell_type": "code",
   "execution_count": 30,
   "outputs": [
    {
     "name": "stdout",
     "output_type": "stream",
     "text": [
      "Processing 42 combinations | Sampling itemset size 3\n"
     ]
    }
   ],
   "source": [
    "df = apriori(dfa, min_support = 0.2, use_colnames = True, verbose = 1)\n",
    "df_ar = association_rules(df, metric = \"confidence\", min_threshold = 0.6)"
   ],
   "metadata": {
    "collapsed": false
   }
  },
  {
   "cell_type": "code",
   "execution_count": 31,
   "outputs": [
    {
     "data": {
      "text/plain": "    support              itemsets\n0      0.35             (BISCUIT)\n1      0.20           (BOURNVITA)\n2      0.65               (BREAD)\n3      0.40              (COFFEE)\n4      0.30          (CORNFLAKES)\n5      0.25               (MAGGI)\n6      0.25                (MILK)\n7      0.30               (SUGER)\n8      0.35                 (TEA)\n9      0.20      (BISCUIT, BREAD)\n10     0.20         (BREAD, MILK)\n11     0.20        (SUGER, BREAD)\n12     0.20          (BREAD, TEA)\n13     0.20  (COFFEE, CORNFLAKES)\n14     0.20       (COFFEE, SUGER)\n15     0.20          (MAGGI, TEA)",
      "text/html": "<div>\n<style scoped>\n    .dataframe tbody tr th:only-of-type {\n        vertical-align: middle;\n    }\n\n    .dataframe tbody tr th {\n        vertical-align: top;\n    }\n\n    .dataframe thead th {\n        text-align: right;\n    }\n</style>\n<table border=\"1\" class=\"dataframe\">\n  <thead>\n    <tr style=\"text-align: right;\">\n      <th></th>\n      <th>support</th>\n      <th>itemsets</th>\n    </tr>\n  </thead>\n  <tbody>\n    <tr>\n      <th>0</th>\n      <td>0.35</td>\n      <td>(BISCUIT)</td>\n    </tr>\n    <tr>\n      <th>1</th>\n      <td>0.20</td>\n      <td>(BOURNVITA)</td>\n    </tr>\n    <tr>\n      <th>2</th>\n      <td>0.65</td>\n      <td>(BREAD)</td>\n    </tr>\n    <tr>\n      <th>3</th>\n      <td>0.40</td>\n      <td>(COFFEE)</td>\n    </tr>\n    <tr>\n      <th>4</th>\n      <td>0.30</td>\n      <td>(CORNFLAKES)</td>\n    </tr>\n    <tr>\n      <th>5</th>\n      <td>0.25</td>\n      <td>(MAGGI)</td>\n    </tr>\n    <tr>\n      <th>6</th>\n      <td>0.25</td>\n      <td>(MILK)</td>\n    </tr>\n    <tr>\n      <th>7</th>\n      <td>0.30</td>\n      <td>(SUGER)</td>\n    </tr>\n    <tr>\n      <th>8</th>\n      <td>0.35</td>\n      <td>(TEA)</td>\n    </tr>\n    <tr>\n      <th>9</th>\n      <td>0.20</td>\n      <td>(BISCUIT, BREAD)</td>\n    </tr>\n    <tr>\n      <th>10</th>\n      <td>0.20</td>\n      <td>(BREAD, MILK)</td>\n    </tr>\n    <tr>\n      <th>11</th>\n      <td>0.20</td>\n      <td>(SUGER, BREAD)</td>\n    </tr>\n    <tr>\n      <th>12</th>\n      <td>0.20</td>\n      <td>(BREAD, TEA)</td>\n    </tr>\n    <tr>\n      <th>13</th>\n      <td>0.20</td>\n      <td>(COFFEE, CORNFLAKES)</td>\n    </tr>\n    <tr>\n      <th>14</th>\n      <td>0.20</td>\n      <td>(COFFEE, SUGER)</td>\n    </tr>\n    <tr>\n      <th>15</th>\n      <td>0.20</td>\n      <td>(MAGGI, TEA)</td>\n    </tr>\n  </tbody>\n</table>\n</div>"
     },
     "execution_count": 31,
     "metadata": {},
     "output_type": "execute_result"
    }
   ],
   "source": [
    "df"
   ],
   "metadata": {
    "collapsed": false
   }
  },
  {
   "cell_type": "code",
   "execution_count": 32,
   "outputs": [
    {
     "data": {
      "text/plain": "    antecedents consequents  antecedent support  consequent support  support  \\\n0        (MILK)     (BREAD)                0.25                0.65      0.2   \n1       (SUGER)     (BREAD)                0.30                0.65      0.2   \n2  (CORNFLAKES)    (COFFEE)                0.30                0.40      0.2   \n3       (SUGER)    (COFFEE)                0.30                0.40      0.2   \n4       (MAGGI)       (TEA)                0.25                0.35      0.2   \n\n   confidence      lift  leverage  conviction  zhangs_metric  \n0    0.800000  1.230769    0.0375        1.75       0.250000  \n1    0.666667  1.025641    0.0050        1.05       0.035714  \n2    0.666667  1.666667    0.0800        1.80       0.571429  \n3    0.666667  1.666667    0.0800        1.80       0.571429  \n4    0.800000  2.285714    0.1125        3.25       0.750000  ",
      "text/html": "<div>\n<style scoped>\n    .dataframe tbody tr th:only-of-type {\n        vertical-align: middle;\n    }\n\n    .dataframe tbody tr th {\n        vertical-align: top;\n    }\n\n    .dataframe thead th {\n        text-align: right;\n    }\n</style>\n<table border=\"1\" class=\"dataframe\">\n  <thead>\n    <tr style=\"text-align: right;\">\n      <th></th>\n      <th>antecedents</th>\n      <th>consequents</th>\n      <th>antecedent support</th>\n      <th>consequent support</th>\n      <th>support</th>\n      <th>confidence</th>\n      <th>lift</th>\n      <th>leverage</th>\n      <th>conviction</th>\n      <th>zhangs_metric</th>\n    </tr>\n  </thead>\n  <tbody>\n    <tr>\n      <th>0</th>\n      <td>(MILK)</td>\n      <td>(BREAD)</td>\n      <td>0.25</td>\n      <td>0.65</td>\n      <td>0.2</td>\n      <td>0.800000</td>\n      <td>1.230769</td>\n      <td>0.0375</td>\n      <td>1.75</td>\n      <td>0.250000</td>\n    </tr>\n    <tr>\n      <th>1</th>\n      <td>(SUGER)</td>\n      <td>(BREAD)</td>\n      <td>0.30</td>\n      <td>0.65</td>\n      <td>0.2</td>\n      <td>0.666667</td>\n      <td>1.025641</td>\n      <td>0.0050</td>\n      <td>1.05</td>\n      <td>0.035714</td>\n    </tr>\n    <tr>\n      <th>2</th>\n      <td>(CORNFLAKES)</td>\n      <td>(COFFEE)</td>\n      <td>0.30</td>\n      <td>0.40</td>\n      <td>0.2</td>\n      <td>0.666667</td>\n      <td>1.666667</td>\n      <td>0.0800</td>\n      <td>1.80</td>\n      <td>0.571429</td>\n    </tr>\n    <tr>\n      <th>3</th>\n      <td>(SUGER)</td>\n      <td>(COFFEE)</td>\n      <td>0.30</td>\n      <td>0.40</td>\n      <td>0.2</td>\n      <td>0.666667</td>\n      <td>1.666667</td>\n      <td>0.0800</td>\n      <td>1.80</td>\n      <td>0.571429</td>\n    </tr>\n    <tr>\n      <th>4</th>\n      <td>(MAGGI)</td>\n      <td>(TEA)</td>\n      <td>0.25</td>\n      <td>0.35</td>\n      <td>0.2</td>\n      <td>0.800000</td>\n      <td>2.285714</td>\n      <td>0.1125</td>\n      <td>3.25</td>\n      <td>0.750000</td>\n    </tr>\n  </tbody>\n</table>\n</div>"
     },
     "execution_count": 32,
     "metadata": {},
     "output_type": "execute_result"
    }
   ],
   "source": [
    "df_ar"
   ],
   "metadata": {
    "collapsed": false
   }
  },
  {
   "cell_type": "code",
   "execution_count": null,
   "outputs": [],
   "source": [],
   "metadata": {
    "collapsed": false
   }
  }
 ],
 "metadata": {
  "kernelspec": {
   "display_name": "Python 3",
   "language": "python",
   "name": "python3"
  },
  "language_info": {
   "codemirror_mode": {
    "name": "ipython",
    "version": 2
   },
   "file_extension": ".py",
   "mimetype": "text/x-python",
   "name": "python",
   "nbconvert_exporter": "python",
   "pygments_lexer": "ipython2",
   "version": "2.7.6"
  }
 },
 "nbformat": 4,
 "nbformat_minor": 0
}
