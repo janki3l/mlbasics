{
 "cells": [
  {
   "cell_type": "code",
   "execution_count": 1,
   "metadata": {},
   "outputs": [],
   "source": [
    "import numpy as np\n",
    "import pandas as pd\n",
    "import matplotlib.pyplot as plt\n",
    "import seaborn as sns\n",
    "from sklearn.preprocessing import LabelEncoder\n",
    "import math\n",
    "from sklearn.model_selection import train_test_split"
   ]
  },
  {
   "cell_type": "code",
   "execution_count": 2,
   "metadata": {},
   "outputs": [],
   "source": [
    "df = pd.read_csv(\"./files/cleaned_data.csv\" , sep = \",\" , encoding = 'utf-8')"
   ]
  },
  {
   "cell_type": "code",
   "execution_count": 3,
   "metadata": {},
   "outputs": [
    {
     "data": {
      "text/html": [
       "<div>\n",
       "<style scoped>\n",
       "    .dataframe tbody tr th:only-of-type {\n",
       "        vertical-align: middle;\n",
       "    }\n",
       "\n",
       "    .dataframe tbody tr th {\n",
       "        vertical-align: top;\n",
       "    }\n",
       "\n",
       "    .dataframe thead th {\n",
       "        text-align: right;\n",
       "    }\n",
       "</style>\n",
       "<table border=\"1\" class=\"dataframe\">\n",
       "  <thead>\n",
       "    <tr style=\"text-align: right;\">\n",
       "      <th></th>\n",
       "      <th>Unnamed: 0</th>\n",
       "      <th>Age</th>\n",
       "      <th>Annual_Income</th>\n",
       "      <th>Delay_from_due_date</th>\n",
       "      <th>Num_of_Delayed_Payment</th>\n",
       "      <th>Outstanding_Debt</th>\n",
       "      <th>Credit_History_Age</th>\n",
       "      <th>Payment_of_Min_Amount</th>\n",
       "      <th>Total_EMI_per_month</th>\n",
       "      <th>Payment_Behaviour</th>\n",
       "      <th>...</th>\n",
       "      <th>Occupation_Entrepreneur</th>\n",
       "      <th>Occupation_Journalist</th>\n",
       "      <th>Occupation_Lawyer</th>\n",
       "      <th>Occupation_Manager</th>\n",
       "      <th>Occupation_Mechanic</th>\n",
       "      <th>Occupation_Media_Manager</th>\n",
       "      <th>Occupation_Musician</th>\n",
       "      <th>Occupation_Scientist</th>\n",
       "      <th>Occupation_Teacher</th>\n",
       "      <th>Occupation_Writer</th>\n",
       "    </tr>\n",
       "  </thead>\n",
       "  <tbody>\n",
       "    <tr>\n",
       "      <th>0</th>\n",
       "      <td>0</td>\n",
       "      <td>0.056860</td>\n",
       "      <td>0.083668</td>\n",
       "      <td>0.111111</td>\n",
       "      <td>0.002273</td>\n",
       "      <td>0.162020</td>\n",
       "      <td>0.652819</td>\n",
       "      <td>2</td>\n",
       "      <td>0.000602</td>\n",
       "      <td>4.0</td>\n",
       "      <td>...</td>\n",
       "      <td>0</td>\n",
       "      <td>0</td>\n",
       "      <td>0</td>\n",
       "      <td>0</td>\n",
       "      <td>0</td>\n",
       "      <td>0</td>\n",
       "      <td>0</td>\n",
       "      <td>1</td>\n",
       "      <td>0</td>\n",
       "      <td>0</td>\n",
       "    </tr>\n",
       "    <tr>\n",
       "      <th>1</th>\n",
       "      <td>2</td>\n",
       "      <td>0.000000</td>\n",
       "      <td>0.083668</td>\n",
       "      <td>0.111111</td>\n",
       "      <td>0.002273</td>\n",
       "      <td>0.162020</td>\n",
       "      <td>0.658754</td>\n",
       "      <td>2</td>\n",
       "      <td>0.000602</td>\n",
       "      <td>2.0</td>\n",
       "      <td>...</td>\n",
       "      <td>0</td>\n",
       "      <td>0</td>\n",
       "      <td>0</td>\n",
       "      <td>0</td>\n",
       "      <td>0</td>\n",
       "      <td>0</td>\n",
       "      <td>0</td>\n",
       "      <td>1</td>\n",
       "      <td>0</td>\n",
       "      <td>0</td>\n",
       "    </tr>\n",
       "    <tr>\n",
       "      <th>2</th>\n",
       "      <td>3</td>\n",
       "      <td>0.056860</td>\n",
       "      <td>0.083668</td>\n",
       "      <td>0.138889</td>\n",
       "      <td>0.001591</td>\n",
       "      <td>0.162020</td>\n",
       "      <td>0.661721</td>\n",
       "      <td>2</td>\n",
       "      <td>0.000602</td>\n",
       "      <td>1.0</td>\n",
       "      <td>...</td>\n",
       "      <td>0</td>\n",
       "      <td>0</td>\n",
       "      <td>0</td>\n",
       "      <td>0</td>\n",
       "      <td>0</td>\n",
       "      <td>0</td>\n",
       "      <td>0</td>\n",
       "      <td>1</td>\n",
       "      <td>0</td>\n",
       "      <td>0</td>\n",
       "    </tr>\n",
       "    <tr>\n",
       "      <th>3</th>\n",
       "      <td>6</td>\n",
       "      <td>0.056860</td>\n",
       "      <td>0.083668</td>\n",
       "      <td>0.111111</td>\n",
       "      <td>0.002500</td>\n",
       "      <td>0.162020</td>\n",
       "      <td>0.670623</td>\n",
       "      <td>2</td>\n",
       "      <td>0.000602</td>\n",
       "      <td>1.0</td>\n",
       "      <td>...</td>\n",
       "      <td>0</td>\n",
       "      <td>0</td>\n",
       "      <td>0</td>\n",
       "      <td>0</td>\n",
       "      <td>0</td>\n",
       "      <td>0</td>\n",
       "      <td>0</td>\n",
       "      <td>1</td>\n",
       "      <td>0</td>\n",
       "      <td>0</td>\n",
       "    </tr>\n",
       "    <tr>\n",
       "      <th>4</th>\n",
       "      <td>9</td>\n",
       "      <td>0.057404</td>\n",
       "      <td>0.192389</td>\n",
       "      <td>0.166667</td>\n",
       "      <td>0.000909</td>\n",
       "      <td>0.121012</td>\n",
       "      <td>0.792285</td>\n",
       "      <td>2</td>\n",
       "      <td>0.000229</td>\n",
       "      <td>6.0</td>\n",
       "      <td>...</td>\n",
       "      <td>0</td>\n",
       "      <td>0</td>\n",
       "      <td>0</td>\n",
       "      <td>0</td>\n",
       "      <td>0</td>\n",
       "      <td>0</td>\n",
       "      <td>0</td>\n",
       "      <td>0</td>\n",
       "      <td>1</td>\n",
       "      <td>0</td>\n",
       "    </tr>\n",
       "  </tbody>\n",
       "</table>\n",
       "<p>5 rows × 27 columns</p>\n",
       "</div>"
      ],
      "text/plain": [
       "   Unnamed: 0       Age  Annual_Income  Delay_from_due_date  \\\n",
       "0           0  0.056860       0.083668             0.111111   \n",
       "1           2  0.000000       0.083668             0.111111   \n",
       "2           3  0.056860       0.083668             0.138889   \n",
       "3           6  0.056860       0.083668             0.111111   \n",
       "4           9  0.057404       0.192389             0.166667   \n",
       "\n",
       "   Num_of_Delayed_Payment  Outstanding_Debt  Credit_History_Age  \\\n",
       "0                0.002273          0.162020            0.652819   \n",
       "1                0.002273          0.162020            0.658754   \n",
       "2                0.001591          0.162020            0.661721   \n",
       "3                0.002500          0.162020            0.670623   \n",
       "4                0.000909          0.121012            0.792285   \n",
       "\n",
       "   Payment_of_Min_Amount  Total_EMI_per_month  Payment_Behaviour  ...  \\\n",
       "0                      2             0.000602                4.0  ...   \n",
       "1                      2             0.000602                2.0  ...   \n",
       "2                      2             0.000602                1.0  ...   \n",
       "3                      2             0.000602                1.0  ...   \n",
       "4                      2             0.000229                6.0  ...   \n",
       "\n",
       "   Occupation_Entrepreneur  Occupation_Journalist  Occupation_Lawyer  \\\n",
       "0                        0                      0                  0   \n",
       "1                        0                      0                  0   \n",
       "2                        0                      0                  0   \n",
       "3                        0                      0                  0   \n",
       "4                        0                      0                  0   \n",
       "\n",
       "   Occupation_Manager  Occupation_Mechanic  Occupation_Media_Manager  \\\n",
       "0                   0                    0                         0   \n",
       "1                   0                    0                         0   \n",
       "2                   0                    0                         0   \n",
       "3                   0                    0                         0   \n",
       "4                   0                    0                         0   \n",
       "\n",
       "   Occupation_Musician  Occupation_Scientist  Occupation_Teacher  \\\n",
       "0                    0                     1                   0   \n",
       "1                    0                     1                   0   \n",
       "2                    0                     1                   0   \n",
       "3                    0                     1                   0   \n",
       "4                    0                     0                   1   \n",
       "\n",
       "   Occupation_Writer  \n",
       "0                  0  \n",
       "1                  0  \n",
       "2                  0  \n",
       "3                  0  \n",
       "4                  0  \n",
       "\n",
       "[5 rows x 27 columns]"
      ]
     },
     "execution_count": 3,
     "metadata": {},
     "output_type": "execute_result"
    }
   ],
   "source": [
    "df.head()"
   ]
  },
  {
   "cell_type": "code",
   "execution_count": 4,
   "metadata": {},
   "outputs": [
    {
     "name": "stdout",
     "output_type": "stream",
     "text": [
      "0        27\n",
      "1        27\n",
      "2        27\n",
      "3        27\n",
      "4        27\n",
      "         ..\n",
      "69835    27\n",
      "69836    27\n",
      "69837    27\n",
      "69838    27\n",
      "69839    27\n",
      "Length: 69840, dtype: int64\n"
     ]
    }
   ],
   "source": [
    "print(df.count(axis='columns'))"
   ]
  },
  {
   "attachments": {},
   "cell_type": "markdown",
   "metadata": {},
   "source": [
    "Ilość kolumn wynosi 27 (lub 26, wyłączając pole ID)."
   ]
  },
  {
   "cell_type": "code",
   "execution_count": 5,
   "metadata": {},
   "outputs": [],
   "source": [
    "from sklearn.decomposition import PCA"
   ]
  },
  {
   "cell_type": "code",
   "execution_count": 6,
   "metadata": {},
   "outputs": [
    {
     "data": {
      "image/png": "[encoded data removed]",
      "text/plain": [
       "<Figure size 700x500 with 1 Axes>"
      ]
     },
     "metadata": {},
     "output_type": "display_data"
    }
   ],
   "source": [
    "exclude_filter = ~df.columns.isin(['Unnamed: 0', 'Credit_Score'])\n",
    "pca = PCA().fit(df.loc[:, exclude_filter])\n",
    "plt.plot(np.cumsum(pca.explained_variance_ratio_))\n",
    "plt.xlabel('number of components')\n",
    "plt.ylabel('cumulative explained variance')\n",
    "plt.gcf().set_size_inches(7, 5)"
   ]
  },
  {
   "cell_type": "code",
   "execution_count": 7,
   "metadata": {},
   "outputs": [],
   "source": [
    "# 95% zmienności, dane przekształcone\n",
    "# w n components jeśli wpiszemy (0,1) to wybiera tyle zmiennych ile wyjaśnia % zmienności\n",
    "\n",
    "pca = PCA(svd_solver='full', n_components=0.95)\n",
    "principal_components = pca.fit_transform(df.loc[:, exclude_filter])\n",
    "principal_df = pd.DataFrame(data=principal_components)\n",
    "principal_df.head()\n",
    "\n",
    "# dodać Y\n",
    "y = df['Credit_Score']\n"
   ]
  },
  {
   "cell_type": "code",
   "execution_count": 8,
   "metadata": {},
   "outputs": [],
   "source": [
    "# podział na zbiór testowy i uczący się\n",
    "from sklearn.model_selection import train_test_split\n",
    "\n",
    "# x_train, x_test, y_train, y_test\n",
    "x_train, x_test, y_train, y_test = train_test_split(principal_df, y, train_size=0.33)\n",
    "\n"
   ]
  },
  {
   "cell_type": "code",
   "execution_count": 17,
   "metadata": {},
   "outputs": [
    {
     "name": "stdout",
     "output_type": "stream",
     "text": [
      "Dokładność modelu wynosi:  0.5579894428653859\n",
      "              precision    recall  f1-score   support\n",
      "\n",
      "           1       0.56      0.36      0.44     13801\n",
      "           2       0.56      0.82      0.67     24839\n",
      "           3       0.45      0.11      0.17      8153\n",
      "\n",
      "    accuracy                           0.56     46793\n",
      "   macro avg       0.53      0.43      0.42     46793\n",
      "weighted avg       0.54      0.56      0.51     46793\n",
      "\n"
     ]
    }
   ],
   "source": [
    "from sklearn.linear_model import LogisticRegression\n",
    "from sklearn.metrics import classification_report\n",
    "\n",
    "model = LogisticRegression(random_state= 100)\n",
    "model.fit(x_train, y_train)\n",
    "accuracy = model.score(x_test, y_test)\n",
    "y_pred = model.predict(x_test)\n",
    "report = classification_report(y_test, y_pred)\n",
    "\n",
    "print('Dokładność modelu wynosi: ', accuracy)\n",
    "print(report)\n",
    "\n"
   ]
  },
  {
   "cell_type": "code",
   "execution_count": 23,
   "metadata": {},
   "outputs": [
    {
     "name": "stdout",
     "output_type": "stream",
     "text": [
      "[[ 4914  8678   209]\n",
      " [ 3656 20332   851]\n",
      " [  143  7146   864]]\n"
     ]
    },
    {
     "data": {
      "image/png": "[encoded data removed]",
      "text/plain": [
       "<Figure size 640x480 with 2 Axes>"
      ]
     },
     "metadata": {},
     "output_type": "display_data"
    }
   ],
   "source": [
    "from sklearn.metrics import confusion_matrix, ConfusionMatrixDisplay\n",
    "\n",
    "cm = confusion_matrix(y_test, y_pred)\n",
    "ConfusionMatrixDisplay(cm, display_labels=model.classes_).plot()\n",
    "print(cm)\n"
   ]
  },
  {
   "cell_type": "code",
   "execution_count": 26,
   "metadata": {},
   "outputs": [
    {
     "name": "stdout",
     "output_type": "stream",
     "text": [
      "tp: 4914\n",
      "fp: 3656\n",
      "fn: 8678\n",
      "tn: 20332\n",
      "Accuracy: 0.6717935071846727\n",
      "Precision: 0.5733955659276546\n",
      "Recall: 0.36153619776339024\n",
      "F1-Score: 0.443461781427669\n"
     ]
    }
   ],
   "source": [
    "# Ręczna ocena modelu - dla pierwszej etykiety\n",
    "\n",
    "tp = cm[0][0]\n",
    "fp = cm[1][0]\n",
    "fn = cm[0][1]\n",
    "tn = cm[1][1]\n",
    "\n",
    "\n",
    "print(f\"tp: {tp}\")\n",
    "print(f\"fp: {fp}\")\n",
    "print(f\"fn: {fn}\")\n",
    "print(f\"tn: {tn}\")\n",
    "\n",
    "\n",
    "accuracy = (tp + tn) / (tp + tn + fp + fn)\n",
    "print(f\"Accuracy: {accuracy}\")\n",
    "\n",
    "precision = tp / (tp + fp)\n",
    "print(f\"Precision: {precision}\")\n",
    "\n",
    "recall = tp / (tp + fn)\n",
    "print(f\"Recall: {recall}\")\n",
    "\n",
    "fscore = 2 * ((precision * recall) / (precision + recall))\n",
    "print(f\"F1-Score: {fscore}\")"
   ]
  }
 ],
 "metadata": {
  "kernelspec": {
   "display_name": "base",
   "language": "python",
   "name": "python3"
  },
  "language_info": {
   "codemirror_mode": {
    "name": "ipython",
    "version": 3
   },
   "file_extension": ".py",
   "mimetype": "text/x-python",
   "name": "python",
   "nbconvert_exporter": "python",
   "pygments_lexer": "ipython3",
   "version": "3.9.13"
  },
  "orig_nbformat": 4
 },
 "nbformat": 4,
 "nbformat_minor": 2
}
